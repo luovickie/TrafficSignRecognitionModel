{
 "cells": [
  {
   "cell_type": "code",
   "execution_count": 68,
   "metadata": {},
   "outputs": [],
   "source": [
    "import os\n",
    "import pandas as pd\n",
    "import seaborn as sns\n",
    "from PIL import Image\n",
    "import shutil\n",
    "import numpy as np\n",
    "import matplotlib.pyplot as plt\n",
    "%matplotlib inline\n",
    "from tensorflow.keras.models import Sequential\n",
    "import tensorflow.keras.layers as layers\n",
    "from tensorflow.keras.callbacks import EarlyStopping\n",
    "from sklearn.metrics import classification_report, confusion_matrix\n",
    "from sklearn.model_selection import train_test_split\n",
    "import visualkeras\n",
    "from tensorflow.keras.utils import plot_model\n",
    "from tensorflow.keras.utils import to_categorical\n",
    "from tensorflow.keras.optimizers import Adam\n",
    "import pydot\n",
    "import graphviz\n",
    "import tensorflow as tf"
   ]
  },
  {
   "cell_type": "code",
   "execution_count": null,
   "metadata": {},
   "outputs": [],
   "source": [
    "root_dir = 'C:/Users/nguye/Downloads/Traffic and Road Signs.v1i.multiclass'\n",
    "\n",
    "train_dir = root_dir + '/train/'\n",
    "val_dir = root_dir + '/valid/'\n",
    "# test_dir = root_dir + '/test/'\n",
    "test_dir = root_dir + '/train/'\n",
    "\n",
    "train_df = pd.read_csv(train_dir + '/_classes.csv')\n",
    "train_df, test_df = train_test_split(train_df, test_size=0.2, random_state=42)\n",
    "val_df = pd.read_csv(val_dir + '/_classes.csv')\n",
    "# test_df = pd.read_csv(test_dir + '/_classes.csv')"
   ]
  },
  {
   "cell_type": "code",
   "execution_count": null,
   "metadata": {},
   "outputs": [
    {
     "name": "stdout",
     "output_type": "stream",
     "text": [
      "7092\n",
      "1884\n"
     ]
    }
   ],
   "source": [
    "print(len(train_df))\n",
    "print(len(val_df))"
   ]
  },
  {
   "cell_type": "code",
   "execution_count": 135,
   "metadata": {},
   "outputs": [],
   "source": [
    "class_columns =  [\" -Road narrows on right\",\n",
    "                \" 50 mph speed limit\",\n",
    "                \" Attention Please-\",\n",
    "                \" Beware of children\",\n",
    "                \" CYCLE ROUTE AHEAD WARNING\",\n",
    "                \" Dangerous Left Curve Ahead\",\n",
    "                \" Dangerous Rright Curve Ahead\",\n",
    "                \" End of all speed and passing limits\",\n",
    "                \" Give Way\",\n",
    "                \" Go Straight or Turn Right\",\n",
    "                \" Go straight or turn left\",\n",
    "                \" Keep-Left\",\n",
    "                \" Keep-Right\",\n",
    "                \" Left Zig Zag Traffic\",\n",
    "                \" No Entry\",\n",
    "                \" No_Over_Taking\",\n",
    "                \" Overtaking by trucks is prohibited\",\n",
    "                \" Pedestrian Crossing\",\n",
    "                \" Round-About\",\n",
    "                \" Slippery Road Ahead\",\n",
    "                \" Speed Limit 20 KMPh\",\n",
    "                \" Speed Limit 30 KMPh\",\n",
    "                \" Stop_Sign\",\n",
    "                \" Straight Ahead Only\",\n",
    "                \" Traffic_signal\",\n",
    "                \" Truck traffic is prohibited\",\n",
    "                \" Turn left ahead\",\n",
    "                \" Turn right ahead\",\n",
    "                \" Uneven Road\"]"
   ]
  },
  {
   "cell_type": "code",
   "execution_count": 136,
   "metadata": {},
   "outputs": [],
   "source": [
    "# Turn filenames into paths\n",
    "\n",
    "train_df['filename'] = train_dir + train_df['filename']\n",
    "train_df = train_df.rename(columns={'filename': 'path'})\n",
    "\n",
    "val_df['filename'] = val_dir + val_df['filename']\n",
    "val_df = val_df.rename(columns={'filename': 'path'})\n",
    "\n",
    "test_df['filename'] = test_dir + test_df['filename']\n",
    "test_df = test_df.rename(columns={'filename': 'path'})\n",
    "pass"
   ]
  },
  {
   "cell_type": "code",
   "execution_count": 137,
   "metadata": {},
   "outputs": [],
   "source": [
    "train_paths = train_df['path'].values\n",
    "train_labels = train_df[class_columns].values\n",
    "\n",
    "val_paths = val_df['path'].values\n",
    "val_labels = val_df[class_columns].values\n",
    "\n",
    "test_paths = test_df['path'].values\n",
    "test_labels = test_df[class_columns].values\n",
    "\n",
    "def load_image(filepath, label):\n",
    "    image = tf.io.read_file(filepath)\n",
    "    image = tf.image.decode_jpeg(image, channels=3)\n",
    "    image = tf.image.resize(image, (128, 128))\n",
    "    image = image / 255.0\n",
    "    return image, label\n",
    "\n",
    "train_ds = tf.data.Dataset.from_tensor_slices((train_paths, train_labels))\n",
    "train_ds = train_ds.map(load_image).batch(32)\n",
    "\n",
    "val_ds = tf.data.Dataset.from_tensor_slices((val_paths, val_labels))\n",
    "val_ds = val_ds.map(load_image).batch(32)\n",
    "\n",
    "test_ds = tf.data.Dataset.from_tensor_slices((test_paths, test_labels))\n",
    "test_ds = test_ds.map(load_image).batch(32)"
   ]
  },
  {
   "cell_type": "code",
   "execution_count": 138,
   "metadata": {},
   "outputs": [],
   "source": [
    "train_ds = train_ds.shuffle(buffer_size=32)\n",
    "\n",
    "model = Sequential([\n",
    "#   layers.Rescaling(1./255, input_shape=(img_height, img_width, 3)),\n",
    "  layers.Conv2D(16, 3, padding='same', activation='relu'),\n",
    "  layers.MaxPooling2D(),\n",
    "  layers.Conv2D(32, 3, padding='same', activation='relu'),\n",
    "#   layers.MaxPooling2D(),\n",
    "#   layers.Conv2D(64, 3, padding='same', activation='relu'),\n",
    "  layers.MaxPooling2D(),\n",
    "  layers.Flatten(),\n",
    "  layers.Dense(128, activation='relu'),\n",
    "  layers.Dense(len(class_columns))\n",
    "])\n",
    "\n",
    "model.compile(optimizer='adam',\n",
    "              loss=tf.keras.losses.CategoricalCrossentropy(from_logits=True),\n",
    "              metrics=['accuracy'])"
   ]
  },
  {
   "cell_type": "code",
   "execution_count": 139,
   "metadata": {},
   "outputs": [
    {
     "name": "stdout",
     "output_type": "stream",
     "text": [
      "Epoch 1/5\n"
     ]
    },
    {
     "name": "stdout",
     "output_type": "stream",
     "text": [
      "178/178 [==============================] - 14s 74ms/step - loss: 1.5058 - accuracy: 0.5865 - val_loss: 1.3153 - val_accuracy: 0.8418\n",
      "Epoch 2/5\n",
      "178/178 [==============================] - 13s 72ms/step - loss: 0.2738 - accuracy: 0.9372 - val_loss: 1.1428 - val_accuracy: 0.9050\n",
      "Epoch 3/5\n",
      "178/178 [==============================] - 13s 72ms/step - loss: 0.0995 - accuracy: 0.9774 - val_loss: 1.0911 - val_accuracy: 0.9220\n",
      "Epoch 4/5\n",
      "178/178 [==============================] - 12s 69ms/step - loss: 0.0463 - accuracy: 0.9908 - val_loss: 0.9390 - val_accuracy: 0.9183\n",
      "Epoch 5/5\n",
      "178/178 [==============================] - 13s 72ms/step - loss: 0.0332 - accuracy: 0.9945 - val_loss: 1.2852 - val_accuracy: 0.9199\n"
     ]
    }
   ],
   "source": [
    "epochs=5\n",
    "history = model.fit(\n",
    "    train_ds,\n",
    "    validation_data=val_ds,\n",
    "    epochs=epochs\n",
    ")"
   ]
  },
  {
   "cell_type": "code",
   "execution_count": 140,
   "metadata": {},
   "outputs": [
    {
     "ename": "NotFoundError",
     "evalue": "Graph execution error:\n\nNewRandomAccessFile failed to Create/Open: C:/Users/nguye/Downloads/Traffic and Road Signs.v1i.multiclass/test/00040_00009_00011_png_jpg.rf.b719cb0274f20b63492974a2fda8d85b.jpg : The system cannot find the file specified.\r\n; No such file or directory\n\t [[{{node ReadFile}}]]\n\t [[IteratorGetNext]] [Op:__inference_test_function_58242]",
     "output_type": "error",
     "traceback": [
      "\u001b[1;31m---------------------------------------------------------------------------\u001b[0m",
      "\u001b[1;31mNotFoundError\u001b[0m                             Traceback (most recent call last)",
      "Cell \u001b[1;32mIn[140], line 1\u001b[0m\n\u001b[1;32m----> 1\u001b[0m \u001b[43mmodel\u001b[49m\u001b[38;5;241;43m.\u001b[39;49m\u001b[43mevaluate\u001b[49m\u001b[43m(\u001b[49m\u001b[43mtest_ds\u001b[49m\u001b[43m,\u001b[49m\u001b[43m \u001b[49m\u001b[43mbatch_size\u001b[49m\u001b[38;5;241;43m=\u001b[39;49m\u001b[38;5;241;43m32\u001b[39;49m\u001b[43m)\u001b[49m\n",
      "File \u001b[1;32mc:\\Users\\nguye\\anaconda3\\envs\\csen240project\\lib\\site-packages\\keras\\utils\\traceback_utils.py:70\u001b[0m, in \u001b[0;36mfilter_traceback.<locals>.error_handler\u001b[1;34m(*args, **kwargs)\u001b[0m\n\u001b[0;32m     67\u001b[0m     filtered_tb \u001b[38;5;241m=\u001b[39m _process_traceback_frames(e\u001b[38;5;241m.\u001b[39m__traceback__)\n\u001b[0;32m     68\u001b[0m     \u001b[38;5;66;03m# To get the full stack trace, call:\u001b[39;00m\n\u001b[0;32m     69\u001b[0m     \u001b[38;5;66;03m# `tf.debugging.disable_traceback_filtering()`\u001b[39;00m\n\u001b[1;32m---> 70\u001b[0m     \u001b[38;5;28;01mraise\u001b[39;00m e\u001b[38;5;241m.\u001b[39mwith_traceback(filtered_tb) \u001b[38;5;28;01mfrom\u001b[39;00m \u001b[38;5;28;01mNone\u001b[39;00m\n\u001b[0;32m     71\u001b[0m \u001b[38;5;28;01mfinally\u001b[39;00m:\n\u001b[0;32m     72\u001b[0m     \u001b[38;5;28;01mdel\u001b[39;00m filtered_tb\n",
      "File \u001b[1;32mc:\\Users\\nguye\\anaconda3\\envs\\csen240project\\lib\\site-packages\\tensorflow\\python\\eager\\execute.py:54\u001b[0m, in \u001b[0;36mquick_execute\u001b[1;34m(op_name, num_outputs, inputs, attrs, ctx, name)\u001b[0m\n\u001b[0;32m     52\u001b[0m \u001b[38;5;28;01mtry\u001b[39;00m:\n\u001b[0;32m     53\u001b[0m   ctx\u001b[38;5;241m.\u001b[39mensure_initialized()\n\u001b[1;32m---> 54\u001b[0m   tensors \u001b[38;5;241m=\u001b[39m pywrap_tfe\u001b[38;5;241m.\u001b[39mTFE_Py_Execute(ctx\u001b[38;5;241m.\u001b[39m_handle, device_name, op_name,\n\u001b[0;32m     55\u001b[0m                                       inputs, attrs, num_outputs)\n\u001b[0;32m     56\u001b[0m \u001b[38;5;28;01mexcept\u001b[39;00m core\u001b[38;5;241m.\u001b[39m_NotOkStatusException \u001b[38;5;28;01mas\u001b[39;00m e:\n\u001b[0;32m     57\u001b[0m   \u001b[38;5;28;01mif\u001b[39;00m name \u001b[38;5;129;01mis\u001b[39;00m \u001b[38;5;129;01mnot\u001b[39;00m \u001b[38;5;28;01mNone\u001b[39;00m:\n",
      "\u001b[1;31mNotFoundError\u001b[0m: Graph execution error:\n\nNewRandomAccessFile failed to Create/Open: C:/Users/nguye/Downloads/Traffic and Road Signs.v1i.multiclass/test/00040_00009_00011_png_jpg.rf.b719cb0274f20b63492974a2fda8d85b.jpg : The system cannot find the file specified.\r\n; No such file or directory\n\t [[{{node ReadFile}}]]\n\t [[IteratorGetNext]] [Op:__inference_test_function_58242]"
     ]
    }
   ],
   "source": [
    "model.evaluate(test_ds, batch_size=32)"
   ]
  }
 ],
 "metadata": {
  "kernelspec": {
   "display_name": "csen240project",
   "language": "python",
   "name": "python3"
  },
  "language_info": {
   "codemirror_mode": {
    "name": "ipython",
    "version": 3
   },
   "file_extension": ".py",
   "mimetype": "text/x-python",
   "name": "python",
   "nbconvert_exporter": "python",
   "pygments_lexer": "ipython3",
   "version": "3.10.13"
  }
 },
 "nbformat": 4,
 "nbformat_minor": 2
}

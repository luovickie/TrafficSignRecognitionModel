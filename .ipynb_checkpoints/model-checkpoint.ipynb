{
 "cells": [
  {
   "cell_type": "code",
   "execution_count": 1,
   "id": "cf7e95b7-c8b0-440b-ba4f-31dfb2a5c461",
   "metadata": {},
   "outputs": [],
   "source": [
    "import os\n",
    "import pandas as pd\n",
    "import tensorflow as tf\n",
    "import matplotlib.pyplot as plt\n",
    "from sklearn.preprocessing import LabelEncoder\n",
    "from tensorflow.keras.utils import to_categorical\n",
    "import seaborn as sns\n",
    "from PIL import Image\n",
    "import shutil\n",
    "import numpy as np"
   ]
  },
  {
   "cell_type": "code",
   "execution_count": 2,
   "id": "7bcd0442-d0c0-476d-84a3-221754ef018e",
   "metadata": {},
   "outputs": [],
   "source": [
    "# PART ONE: DATA PREPROCESSING & PREPARATION"
   ]
  },
  {
   "cell_type": "code",
   "execution_count": 3,
   "id": "9785ac81-5001-4b7a-a8e1-ee2d2bd8756e",
   "metadata": {},
   "outputs": [],
   "source": [
    "# Loading in the dataset\n",
    "\n",
    "trainDataset = pd.read_csv('./roadsigns/train/_annotations.csv')\n",
    "trainDataset['filename'] = './roadsigns/train/' + trainDataset['filename']\n",
    "\n",
    "validationDataset = pd.read_csv('./roadsigns/valid/_annotations.csv')\n",
    "validationDataset['filename'] = './roadsigns/valid/' + validationDataset['filename']\n",
    "\n",
    "testDataset = pd.read_csv('./roadsigns/test/_annotations.csv')\n",
    "testDataset['filename'] = './roadsigns/test/' + testDataset['filename']"
   ]
  },
  {
   "cell_type": "code",
   "execution_count": 4,
   "id": "fcb51cdb-7025-4517-861f-0e0c5c19f354",
   "metadata": {},
   "outputs": [
    {
     "name": "stdout",
     "output_type": "stream",
     "text": [
      "Train:\n",
      "filename    0\n",
      "width       0\n",
      "height      0\n",
      "class       0\n",
      "xmin        0\n",
      "ymin        0\n",
      "xmax        0\n",
      "ymax        0\n",
      "dtype: int64\n",
      "\n",
      "Validation:\n",
      "filename    0\n",
      "width       0\n",
      "height      0\n",
      "class       0\n",
      "xmin        0\n",
      "ymin        0\n",
      "xmax        0\n",
      "ymax        0\n",
      "dtype: int64\n",
      "\n",
      "Test:\n",
      "filename    0\n",
      "width       0\n",
      "height      0\n",
      "class       0\n",
      "xmin        0\n",
      "ymin        0\n",
      "xmax        0\n",
      "ymax        0\n",
      "dtype: int64\n"
     ]
    }
   ],
   "source": [
    "# Checking if there are any data objects with null/improper values\n",
    "\n",
    "numTrainEntriesNull = trainDataset.isnull().sum()\n",
    "print(\"Train:\")\n",
    "print(numTrainEntriesNull)\n",
    "print()\n",
    "\n",
    "numValidationEntriesNull = validationDataset.isnull().sum()\n",
    "print(\"Validation:\")\n",
    "print(numValidationEntriesNull)\n",
    "print()\n",
    "\n",
    "numTestEntriesNull = testDataset.isnull().sum()\n",
    "print(\"Test:\")\n",
    "print(numTestEntriesNull)"
   ]
  },
  {
   "cell_type": "code",
   "execution_count": 5,
   "id": "7a09e331-fb84-4cad-a4fb-b06d4b4014b0",
   "metadata": {},
   "outputs": [],
   "source": [
    "# Resizing and normalizing pixel values for training/validating/testing the CNN\n",
    "\n",
    "def resize(imagePath):\n",
    "    newImageSize = (256, 256)\n",
    "    try:\n",
    "        with Image.open(imagePath) as img:\n",
    "            img = img.convert ('L')\n",
    "            imgResized = img.resize (newImageSize)\n",
    "            imgArray = np.array(imgResized, dtype=np.float32)\n",
    "            imgArray /= 255.0\n",
    "            image.append (imgArray)\n",
    "    except Exception as e:\n",
    "        print(f\"Error processing {imagePath}: {e}\")\n",
    "\n",
    "datasets = [trainDataset, validationDataset, testDataset]\n",
    "for dataset in datasets:\n",
    "    image = []\n",
    "    for index, row in dataset.iterrows():\n",
    "        if not os.path.exists(row['filename']):\n",
    "            print(f\"File not found: {row['filename']}\")\n",
    "    \n",
    "    for index, row in dataset.iterrows():\n",
    "        resize(row['filename'])\n",
    "    dataset['Image'] = image"
   ]
  },
  {
   "cell_type": "code",
   "execution_count": 6,
   "id": "de52b898-e6b4-47fb-9653-8ff567818b51",
   "metadata": {},
   "outputs": [],
   "source": [
    "# Encoding the traffic sign classes pertaining to each image\n",
    "\n",
    "label_encoder = LabelEncoder()\n",
    "\n",
    "trainDataset['class'] = label_encoder.fit_transform(trainDataset['class'])\n",
    "validationDataset['class'] = label_encoder.fit_transform(validationDataset['class'])\n",
    "testDataset['class'] = label_encoder.fit_transform(testDataset['class'])"
   ]
  },
  {
   "cell_type": "code",
   "execution_count": 7,
   "id": "a85dcec6-84b8-4442-aeab-2a8f3ecc5420",
   "metadata": {},
   "outputs": [],
   "source": [
    "# Splitting the data into training and testing sets\n",
    "\n",
    "X_train = trainDataset['Image']\n",
    "X_validation = validationDataset['Image']\n",
    "X_test = testDataset['Image']\n",
    "\n",
    "y_train = to_categorical(trainDataset['class'], num_classes=29)\n",
    "y_validation = to_categorical(validationDataset['class'], num_classes=29)\n",
    "y_test = to_categorical(testDataset['class'], num_classes=29)"
   ]
  },
  {
   "cell_type": "code",
   "execution_count": 8,
   "id": "b60cf581-8357-45a8-a4de-b663ce2bcabd",
   "metadata": {},
   "outputs": [],
   "source": [
    "# PART TWO: BUILDING & TRAINING THE MODEL"
   ]
  },
  {
   "cell_type": "code",
   "execution_count": 9,
   "id": "3f5d68a8-7333-44fc-ac4d-4893ac321d93",
   "metadata": {},
   "outputs": [],
   "source": [
    "# PART THREE: TESTING THE MODEL & EVALUATING PERFORMANCE"
   ]
  },
  {
   "cell_type": "code",
   "execution_count": 10,
   "id": "72e179c8-b00e-4199-b737-8170cae0c619",
   "metadata": {},
   "outputs": [],
   "source": [
    "# (optional) PART FOUR: UI TO INTERACT WITH THE MODEL"
   ]
  },
  {
   "cell_type": "code",
   "execution_count": null,
   "id": "e7ab7e85-b809-4ead-ba47-2ea249e3a118",
   "metadata": {},
   "outputs": [],
   "source": []
  }
 ],
 "metadata": {
  "kernelspec": {
   "display_name": "Python 3 (ipykernel)",
   "language": "python",
   "name": "python3"
  },
  "language_info": {
   "codemirror_mode": {
    "name": "ipython",
    "version": 3
   },
   "file_extension": ".py",
   "mimetype": "text/x-python",
   "name": "python",
   "nbconvert_exporter": "python",
   "pygments_lexer": "ipython3",
   "version": "3.11.0"
  }
 },
 "nbformat": 4,
 "nbformat_minor": 5
}
